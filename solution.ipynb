{
 "cells": [
  {
   "cell_type": "code",
   "execution_count": 2,
   "metadata": {},
   "outputs": [
    {
     "data": {
      "text/html": [
       "<div>\n",
       "<style scoped>\n",
       "    .dataframe tbody tr th:only-of-type {\n",
       "        vertical-align: middle;\n",
       "    }\n",
       "\n",
       "    .dataframe tbody tr th {\n",
       "        vertical-align: top;\n",
       "    }\n",
       "\n",
       "    .dataframe thead th {\n",
       "        text-align: right;\n",
       "    }\n",
       "</style>\n",
       "<table border=\"1\" class=\"dataframe\">\n",
       "  <thead>\n",
       "    <tr style=\"text-align: right;\">\n",
       "      <th></th>\n",
       "      <th>doctor_id</th>\n",
       "      <th>patient_id</th>\n",
       "      <th>appointment_datetime</th>\n",
       "    </tr>\n",
       "  </thead>\n",
       "  <tbody>\n",
       "    <tr>\n",
       "      <th>0</th>\n",
       "      <td>D1</td>\n",
       "      <td>P1</td>\n",
       "      <td>08032018 09:00:00</td>\n",
       "    </tr>\n",
       "    <tr>\n",
       "      <th>1</th>\n",
       "      <td>D1</td>\n",
       "      <td>P1</td>\n",
       "      <td>08042018 10:00:00</td>\n",
       "    </tr>\n",
       "    <tr>\n",
       "      <th>2</th>\n",
       "      <td>D1</td>\n",
       "      <td>P2</td>\n",
       "      <td>08032018 10:00:00</td>\n",
       "    </tr>\n",
       "    <tr>\n",
       "      <th>3</th>\n",
       "      <td>D1</td>\n",
       "      <td>P1</td>\n",
       "      <td>08042018 11:00:00</td>\n",
       "    </tr>\n",
       "    <tr>\n",
       "      <th>4</th>\n",
       "      <td>D2</td>\n",
       "      <td>P1</td>\n",
       "      <td>18032018 08:00:00</td>\n",
       "    </tr>\n",
       "    <tr>\n",
       "      <th>5</th>\n",
       "      <td>D2</td>\n",
       "      <td>P1</td>\n",
       "      <td>18042018 09:00:00</td>\n",
       "    </tr>\n",
       "    <tr>\n",
       "      <th>6</th>\n",
       "      <td>D2</td>\n",
       "      <td>P3</td>\n",
       "      <td>18032018 09:00:00</td>\n",
       "    </tr>\n",
       "    <tr>\n",
       "      <th>7</th>\n",
       "      <td>D2</td>\n",
       "      <td>P3</td>\n",
       "      <td>18042018 10:00:00</td>\n",
       "    </tr>\n",
       "  </tbody>\n",
       "</table>\n",
       "</div>"
      ],
      "text/plain": [
       "  doctor_id patient_id appointment_datetime\n",
       "0        D1         P1    08032018 09:00:00\n",
       "1        D1         P1    08042018 10:00:00\n",
       "2        D1         P2    08032018 10:00:00\n",
       "3        D1         P1    08042018 11:00:00\n",
       "4        D2         P1    18032018 08:00:00\n",
       "5        D2         P1    18042018 09:00:00\n",
       "6        D2         P3    18032018 09:00:00\n",
       "7        D2         P3    18042018 10:00:00"
      ]
     },
     "execution_count": 2,
     "metadata": {},
     "output_type": "execute_result"
    }
   ],
   "source": [
    "# Q1:\n",
    "# Load initial data\n",
    "\n",
    "import pandas as pd\n",
    "\n",
    "data = pd.read_csv('/home/jason/Documents/GitHub/data4lifedocker/data.txt',skipinitialspace=True)\n",
    "data.iloc[:,:3]"
   ]
  },
  {
   "cell_type": "code",
   "execution_count": 3,
   "metadata": {},
   "outputs": [
    {
     "data": {
      "text/plain": [
       "doctor_id               string\n",
       "patient_id              string\n",
       "appointment_datetime    string\n",
       "dtype: object"
      ]
     },
     "execution_count": 3,
     "metadata": {},
     "output_type": "execute_result"
    }
   ],
   "source": [
    "#convert data to string format\n",
    "data = data.astype('string')\n",
    "data.dtypes"
   ]
  },
  {
   "cell_type": "code",
   "execution_count": 4,
   "metadata": {},
   "outputs": [
    {
     "data": {
      "text/html": [
       "<div>\n",
       "<style scoped>\n",
       "    .dataframe tbody tr th:only-of-type {\n",
       "        vertical-align: middle;\n",
       "    }\n",
       "\n",
       "    .dataframe tbody tr th {\n",
       "        vertical-align: top;\n",
       "    }\n",
       "\n",
       "    .dataframe thead th {\n",
       "        text-align: right;\n",
       "    }\n",
       "</style>\n",
       "<table border=\"1\" class=\"dataframe\">\n",
       "  <thead>\n",
       "    <tr style=\"text-align: right;\">\n",
       "      <th></th>\n",
       "      <th>doctor_id</th>\n",
       "      <th>patient_id</th>\n",
       "      <th>appointment_datetime</th>\n",
       "      <th>concat docdate</th>\n",
       "      <th>concat patientdate</th>\n",
       "      <th>date</th>\n",
       "      <th>time</th>\n",
       "    </tr>\n",
       "  </thead>\n",
       "  <tbody>\n",
       "    <tr>\n",
       "      <th>0</th>\n",
       "      <td>D1</td>\n",
       "      <td>P1</td>\n",
       "      <td>08032018 09:00:00</td>\n",
       "      <td>D108032018 09:00:00</td>\n",
       "      <td>P108032018 09:00:00</td>\n",
       "      <td>08032018</td>\n",
       "      <td>09:00:00</td>\n",
       "    </tr>\n",
       "    <tr>\n",
       "      <th>1</th>\n",
       "      <td>D1</td>\n",
       "      <td>P1</td>\n",
       "      <td>08042018 10:00:00</td>\n",
       "      <td>D108042018 10:00:00</td>\n",
       "      <td>P108042018 10:00:00</td>\n",
       "      <td>08042018</td>\n",
       "      <td>10:00:00</td>\n",
       "    </tr>\n",
       "    <tr>\n",
       "      <th>2</th>\n",
       "      <td>D1</td>\n",
       "      <td>P2</td>\n",
       "      <td>08032018 10:00:00</td>\n",
       "      <td>D108032018 10:00:00</td>\n",
       "      <td>P208032018 10:00:00</td>\n",
       "      <td>08032018</td>\n",
       "      <td>10:00:00</td>\n",
       "    </tr>\n",
       "    <tr>\n",
       "      <th>3</th>\n",
       "      <td>D1</td>\n",
       "      <td>P1</td>\n",
       "      <td>08042018 11:00:00</td>\n",
       "      <td>D108042018 11:00:00</td>\n",
       "      <td>P108042018 11:00:00</td>\n",
       "      <td>08042018</td>\n",
       "      <td>11:00:00</td>\n",
       "    </tr>\n",
       "    <tr>\n",
       "      <th>4</th>\n",
       "      <td>D2</td>\n",
       "      <td>P1</td>\n",
       "      <td>18032018 08:00:00</td>\n",
       "      <td>D218032018 08:00:00</td>\n",
       "      <td>P118032018 08:00:00</td>\n",
       "      <td>18032018</td>\n",
       "      <td>08:00:00</td>\n",
       "    </tr>\n",
       "    <tr>\n",
       "      <th>5</th>\n",
       "      <td>D2</td>\n",
       "      <td>P1</td>\n",
       "      <td>18042018 09:00:00</td>\n",
       "      <td>D218042018 09:00:00</td>\n",
       "      <td>P118042018 09:00:00</td>\n",
       "      <td>18042018</td>\n",
       "      <td>09:00:00</td>\n",
       "    </tr>\n",
       "    <tr>\n",
       "      <th>6</th>\n",
       "      <td>D2</td>\n",
       "      <td>P3</td>\n",
       "      <td>18032018 09:00:00</td>\n",
       "      <td>D218032018 09:00:00</td>\n",
       "      <td>P318032018 09:00:00</td>\n",
       "      <td>18032018</td>\n",
       "      <td>09:00:00</td>\n",
       "    </tr>\n",
       "    <tr>\n",
       "      <th>7</th>\n",
       "      <td>D2</td>\n",
       "      <td>P3</td>\n",
       "      <td>18042018 10:00:00</td>\n",
       "      <td>D218042018 10:00:00</td>\n",
       "      <td>P318042018 10:00:00</td>\n",
       "      <td>18042018</td>\n",
       "      <td>10:00:00</td>\n",
       "    </tr>\n",
       "  </tbody>\n",
       "</table>\n",
       "</div>"
      ],
      "text/plain": [
       "  doctor_id patient_id appointment_datetime       concat docdate  \\\n",
       "0        D1         P1    08032018 09:00:00  D108032018 09:00:00   \n",
       "1        D1         P1    08042018 10:00:00  D108042018 10:00:00   \n",
       "2        D1         P2    08032018 10:00:00  D108032018 10:00:00   \n",
       "3        D1         P1    08042018 11:00:00  D108042018 11:00:00   \n",
       "4        D2         P1    18032018 08:00:00  D218032018 08:00:00   \n",
       "5        D2         P1    18042018 09:00:00  D218042018 09:00:00   \n",
       "6        D2         P3    18032018 09:00:00  D218032018 09:00:00   \n",
       "7        D2         P3    18042018 10:00:00  D218042018 10:00:00   \n",
       "\n",
       "    concat patientdate      date      time  \n",
       "0  P108032018 09:00:00  08032018  09:00:00  \n",
       "1  P108042018 10:00:00  08042018  10:00:00  \n",
       "2  P208032018 10:00:00  08032018  10:00:00  \n",
       "3  P108042018 11:00:00  08042018  11:00:00  \n",
       "4  P118032018 08:00:00  18032018  08:00:00  \n",
       "5  P118042018 09:00:00  18042018  09:00:00  \n",
       "6  P318032018 09:00:00  18032018  09:00:00  \n",
       "7  P318042018 10:00:00  18042018  10:00:00  "
      ]
     },
     "execution_count": 4,
     "metadata": {},
     "output_type": "execute_result"
    }
   ],
   "source": [
    "#insert relevant concatenated columns for comparison later on, such as checking of appointment on specific datetime\n",
    "data['concat docdate']= data['doctor_id']+data['appointment_datetime']\n",
    "data['concat patientdate']= data['patient_id']+data['appointment_datetime']\n",
    "data[['date','time']] = data['appointment_datetime'].str.split(' ',1,expand=True)\n",
    "\n",
    "data"
   ]
  },
  {
   "cell_type": "code",
   "execution_count": 5,
   "metadata": {},
   "outputs": [
    {
     "data": {
      "text/plain": [
       "doctor_id               string\n",
       "patient_id              string\n",
       "appointment_datetime    string\n",
       "concat docdate          string\n",
       "concat patientdate      string\n",
       "date                    string\n",
       "time                    string\n",
       "dtype: object"
      ]
     },
     "execution_count": 5,
     "metadata": {},
     "output_type": "execute_result"
    }
   ],
   "source": [
    "#checking data type of new columns\n",
    "data.dtypes"
   ]
  },
  {
   "cell_type": "code",
   "execution_count": 6,
   "metadata": {},
   "outputs": [],
   "source": [
    "# Getting inputs from the user when required\n",
    "def doc_id_input():\n",
    "    doctor = str(input('Please enter doctor id: '))\n",
    "    return doctor\n",
    "def date_input():\n",
    "    date = str(input('Please enter the date you want to check in DDMMYYYY format: '))\n",
    "    return date\n",
    "def patient_id_input():\n",
    "    patient = str(input('Please enter your patient id: '))\n",
    "    return patient\n",
    "def time_input():\n",
    "    while True:\n",
    "        time = str(input(\"Please enter your preferred time in HH:MM:SS: \"))\n",
    "        if time > '16:00:00' or time < '08:00:00':\n",
    "            print('Appointment times must be between 08:00:00 and 16:00:00')\n",
    "            continue\n",
    "        break\n",
    "    return time"
   ]
  },
  {
   "cell_type": "code",
   "execution_count": 7,
   "metadata": {},
   "outputs": [],
   "source": [
    "# Q2:\n",
    "\n",
    "# Get all appointments for the given doctor & date\n",
    "\n",
    "def check_doc_appt (doctor,date,data):\n",
    "    example = data[(data[\"doctor_id\"]== doctor) & (data[\"date\"]==date)]\n",
    "    return \"No appointment for this doctor on this date\" if example.empty else example.iloc[:,:3]\n",
    "\n"
   ]
  },
  {
   "cell_type": "code",
   "execution_count": 52,
   "metadata": {},
   "outputs": [
    {
     "data": {
      "text/plain": [
       "'No appointment for this doctor on this date'"
      ]
     },
     "execution_count": 52,
     "metadata": {},
     "output_type": "execute_result"
    }
   ],
   "source": [
    "#check with invalid entry\n",
    "check_doc_appt(doc_id_input(),date_input(),data)\n",
    "#check_doc_appt('D1','13042022',data)"
   ]
  },
  {
   "cell_type": "code",
   "execution_count": 58,
   "metadata": {},
   "outputs": [
    {
     "data": {
      "text/html": [
       "<div>\n",
       "<style scoped>\n",
       "    .dataframe tbody tr th:only-of-type {\n",
       "        vertical-align: middle;\n",
       "    }\n",
       "\n",
       "    .dataframe tbody tr th {\n",
       "        vertical-align: top;\n",
       "    }\n",
       "\n",
       "    .dataframe thead th {\n",
       "        text-align: right;\n",
       "    }\n",
       "</style>\n",
       "<table border=\"1\" class=\"dataframe\">\n",
       "  <thead>\n",
       "    <tr style=\"text-align: right;\">\n",
       "      <th></th>\n",
       "      <th>doctor_id</th>\n",
       "      <th>patient_id</th>\n",
       "      <th>appointment_datetime</th>\n",
       "    </tr>\n",
       "  </thead>\n",
       "  <tbody>\n",
       "    <tr>\n",
       "      <th>0</th>\n",
       "      <td>D1</td>\n",
       "      <td>P1</td>\n",
       "      <td>08032018 09:00:00</td>\n",
       "    </tr>\n",
       "    <tr>\n",
       "      <th>2</th>\n",
       "      <td>D1</td>\n",
       "      <td>P2</td>\n",
       "      <td>08032018 10:00:00</td>\n",
       "    </tr>\n",
       "  </tbody>\n",
       "</table>\n",
       "</div>"
      ],
      "text/plain": [
       "  doctor_id patient_id appointment_datetime\n",
       "0        D1         P1    08032018 09:00:00\n",
       "2        D1         P2    08032018 10:00:00"
      ]
     },
     "execution_count": 58,
     "metadata": {},
     "output_type": "execute_result"
    }
   ],
   "source": [
    "#check with valid entry\n",
    "check_doc_appt(doc_id_input(),date_input(),data)\n",
    "#check_doc_appt('D1','08032018',data)"
   ]
  },
  {
   "cell_type": "code",
   "execution_count": 8,
   "metadata": {},
   "outputs": [],
   "source": [
    "# Q2B\n",
    "\n",
    "# Get all appointment for given patient & date\n",
    "\n",
    "def check_patient_appt (patient,date,data):\n",
    "    example = data[(data[\"patient_id\"]== patient) & (data[\"date\"]==date)]\n",
    "    return \"You have no appointment on this date\" if example.empty else example.iloc[:,:3]\n",
    "\n",
    "def check_all_patient_appt (patient,data):\n",
    "    example = data[(data[\"patient_id\"]== patient)]\n",
    "    return \"This patient_id has no appointments\" if example.empty else example.iloc[:,:3]\n"
   ]
  },
  {
   "cell_type": "code",
   "execution_count": 55,
   "metadata": {},
   "outputs": [
    {
     "data": {
      "text/html": [
       "<div>\n",
       "<style scoped>\n",
       "    .dataframe tbody tr th:only-of-type {\n",
       "        vertical-align: middle;\n",
       "    }\n",
       "\n",
       "    .dataframe tbody tr th {\n",
       "        vertical-align: top;\n",
       "    }\n",
       "\n",
       "    .dataframe thead th {\n",
       "        text-align: right;\n",
       "    }\n",
       "</style>\n",
       "<table border=\"1\" class=\"dataframe\">\n",
       "  <thead>\n",
       "    <tr style=\"text-align: right;\">\n",
       "      <th></th>\n",
       "      <th>doctor_id</th>\n",
       "      <th>patient_id</th>\n",
       "      <th>appointment_datetime</th>\n",
       "    </tr>\n",
       "  </thead>\n",
       "  <tbody>\n",
       "    <tr>\n",
       "      <th>0</th>\n",
       "      <td>D1</td>\n",
       "      <td>P1</td>\n",
       "      <td>08032018 09:00:00</td>\n",
       "    </tr>\n",
       "  </tbody>\n",
       "</table>\n",
       "</div>"
      ],
      "text/plain": [
       "  doctor_id patient_id appointment_datetime\n",
       "0        D1         P1    08032018 09:00:00"
      ]
     },
     "execution_count": 55,
     "metadata": {},
     "output_type": "execute_result"
    }
   ],
   "source": [
    "#check with valid entry\n",
    "\n",
    "#check_patient_appt('P1','08032018',data)\n",
    "\n",
    "check_patient_appt(patient_id_input(),date_input(),data)"
   ]
  },
  {
   "cell_type": "code",
   "execution_count": 27,
   "metadata": {},
   "outputs": [
    {
     "data": {
      "text/plain": [
       "'You have no appointment on this date'"
      ]
     },
     "execution_count": 27,
     "metadata": {},
     "output_type": "execute_result"
    }
   ],
   "source": [
    "#check with invalid entry\n",
    "\n",
    "#check_patient_appt('P1','13042022',data)\n",
    "\n",
    "check_patient_appt(patient_id_input(),date_input(),data)"
   ]
  },
  {
   "cell_type": "code",
   "execution_count": 28,
   "metadata": {},
   "outputs": [
    {
     "data": {
      "text/html": [
       "<div>\n",
       "<style scoped>\n",
       "    .dataframe tbody tr th:only-of-type {\n",
       "        vertical-align: middle;\n",
       "    }\n",
       "\n",
       "    .dataframe tbody tr th {\n",
       "        vertical-align: top;\n",
       "    }\n",
       "\n",
       "    .dataframe thead th {\n",
       "        text-align: right;\n",
       "    }\n",
       "</style>\n",
       "<table border=\"1\" class=\"dataframe\">\n",
       "  <thead>\n",
       "    <tr style=\"text-align: right;\">\n",
       "      <th></th>\n",
       "      <th>doctor_id</th>\n",
       "      <th>patient_id</th>\n",
       "      <th>appointment_datetime</th>\n",
       "      <th>concat docdate</th>\n",
       "      <th>concat patientdate</th>\n",
       "      <th>date</th>\n",
       "      <th>time</th>\n",
       "    </tr>\n",
       "  </thead>\n",
       "  <tbody>\n",
       "    <tr>\n",
       "      <th>0</th>\n",
       "      <td>D1</td>\n",
       "      <td>P1</td>\n",
       "      <td>08032018 09:00:00</td>\n",
       "      <td>D108032018 09:00:00</td>\n",
       "      <td>P108032018 09:00:00</td>\n",
       "      <td>08032018</td>\n",
       "      <td>09:00:00</td>\n",
       "    </tr>\n",
       "    <tr>\n",
       "      <th>1</th>\n",
       "      <td>D1</td>\n",
       "      <td>P1</td>\n",
       "      <td>08042018 10:00:00</td>\n",
       "      <td>D108042018 10:00:00</td>\n",
       "      <td>P108042018 10:00:00</td>\n",
       "      <td>08042018</td>\n",
       "      <td>10:00:00</td>\n",
       "    </tr>\n",
       "    <tr>\n",
       "      <th>3</th>\n",
       "      <td>D1</td>\n",
       "      <td>P1</td>\n",
       "      <td>08042018 11:00:00</td>\n",
       "      <td>D108042018 11:00:00</td>\n",
       "      <td>P108042018 11:00:00</td>\n",
       "      <td>08042018</td>\n",
       "      <td>11:00:00</td>\n",
       "    </tr>\n",
       "    <tr>\n",
       "      <th>4</th>\n",
       "      <td>D2</td>\n",
       "      <td>P1</td>\n",
       "      <td>18032018 08:00:00</td>\n",
       "      <td>D218032018 08:00:00</td>\n",
       "      <td>P118032018 08:00:00</td>\n",
       "      <td>18032018</td>\n",
       "      <td>08:00:00</td>\n",
       "    </tr>\n",
       "    <tr>\n",
       "      <th>5</th>\n",
       "      <td>D2</td>\n",
       "      <td>P1</td>\n",
       "      <td>18042018 09:00:00</td>\n",
       "      <td>D218042018 09:00:00</td>\n",
       "      <td>P118042018 09:00:00</td>\n",
       "      <td>18042018</td>\n",
       "      <td>09:00:00</td>\n",
       "    </tr>\n",
       "  </tbody>\n",
       "</table>\n",
       "</div>"
      ],
      "text/plain": [
       "  doctor_id patient_id appointment_datetime       concat docdate  \\\n",
       "0        D1         P1    08032018 09:00:00  D108032018 09:00:00   \n",
       "1        D1         P1    08042018 10:00:00  D108042018 10:00:00   \n",
       "3        D1         P1    08042018 11:00:00  D108042018 11:00:00   \n",
       "4        D2         P1    18032018 08:00:00  D218032018 08:00:00   \n",
       "5        D2         P1    18042018 09:00:00  D218042018 09:00:00   \n",
       "\n",
       "    concat patientdate      date      time  \n",
       "0  P108032018 09:00:00  08032018  09:00:00  \n",
       "1  P108042018 10:00:00  08042018  10:00:00  \n",
       "3  P108042018 11:00:00  08042018  11:00:00  \n",
       "4  P118032018 08:00:00  18032018  08:00:00  \n",
       "5  P118042018 09:00:00  18042018  09:00:00  "
      ]
     },
     "execution_count": 28,
     "metadata": {},
     "output_type": "execute_result"
    }
   ],
   "source": [
    "check_all_patient_appt(patient_id_input(),data)\n",
    "#check_patient_appt('P1',data)"
   ]
  },
  {
   "cell_type": "code",
   "execution_count": 31,
   "metadata": {},
   "outputs": [
    {
     "data": {
      "text/plain": [
       "'This patient_id has no appointments'"
      ]
     },
     "execution_count": 31,
     "metadata": {},
     "output_type": "execute_result"
    }
   ],
   "source": [
    "check_all_patient_appt(patient_id_input(),data)\n",
    "#check_patient_appt('P5',data)"
   ]
  },
  {
   "cell_type": "code",
   "execution_count": 148,
   "metadata": {},
   "outputs": [
    {
     "data": {
      "text/html": [
       "<div>\n",
       "<style scoped>\n",
       "    .dataframe tbody tr th:only-of-type {\n",
       "        vertical-align: middle;\n",
       "    }\n",
       "\n",
       "    .dataframe tbody tr th {\n",
       "        vertical-align: top;\n",
       "    }\n",
       "\n",
       "    .dataframe thead th {\n",
       "        text-align: right;\n",
       "    }\n",
       "</style>\n",
       "<table border=\"1\" class=\"dataframe\">\n",
       "  <thead>\n",
       "    <tr style=\"text-align: right;\">\n",
       "      <th></th>\n",
       "      <th>doctor_id</th>\n",
       "      <th>patient_id</th>\n",
       "      <th>appointment_datetime</th>\n",
       "      <th>concat docdate</th>\n",
       "      <th>concat patientdate</th>\n",
       "      <th>date</th>\n",
       "      <th>time</th>\n",
       "    </tr>\n",
       "  </thead>\n",
       "  <tbody>\n",
       "    <tr>\n",
       "      <th>8</th>\n",
       "      <td>D1</td>\n",
       "      <td>P1</td>\n",
       "      <td>11042022 10:00:00</td>\n",
       "      <td>D111042022 10:00:00</td>\n",
       "      <td>P111042022 10:00:00</td>\n",
       "      <td>11042022</td>\n",
       "      <td>10:00:00</td>\n",
       "    </tr>\n",
       "  </tbody>\n",
       "</table>\n",
       "</div>"
      ],
      "text/plain": [
       "  doctor_id patient_id appointment_datetime       concat docdate  \\\n",
       "8        D1         P1    11042022 10:00:00  D111042022 10:00:00   \n",
       "\n",
       "    concat patientdate      date      time  \n",
       "8  P111042022 10:00:00  11042022  10:00:00  "
      ]
     },
     "execution_count": 148,
     "metadata": {},
     "output_type": "execute_result"
    }
   ],
   "source": [
    "#using data = data.drop() to delete appointment\n",
    "doctor = 'D1'\n",
    "patient = 'P1'\n",
    "date = '11042022'\n",
    "time = '10:00:00'\n",
    "\n",
    "data[(data['doctor_id']==doctor) & (data[\"patient_id\"]== patient) & (data[\"date\"]==date) & (data[\"time\"]==time)]"
   ]
  },
  {
   "cell_type": "code",
   "execution_count": 9,
   "metadata": {},
   "outputs": [],
   "source": [
    "# Q3:\n",
    "\n",
    "# Patient makes an appointment by selecting doctor and date and time\n",
    "\n",
    "def make_appt(doctor,patient,date,time,data):  \n",
    "    if doctor+date+' '+time in data['concat docdate'].values:\n",
    "        return 'Doctor is not available at this specific date and time',check_doc_appt(doctor,date,data)\n",
    "    elif patient+date+' '+time in data['concat patientdate'].values:\n",
    "        return 'You already have another appointment at this specific date and time',check_patient_appt(patient,date,data)\n",
    "    else:\n",
    "        data.loc[data.shape[0]] = [doctor,patient,date+' '+time,doctor+date+' '+time,patient+date+' '+time,date,time,]\n",
    "        return 'Appointment created!', check_patient_appt(patient,date,data)\n"
   ]
  },
  {
   "cell_type": "code",
   "execution_count": 59,
   "metadata": {},
   "outputs": [
    {
     "data": {
      "text/plain": [
       "('Doctor is not available at this specific date and time',\n",
       "   doctor_id patient_id appointment_datetime\n",
       " 0        D1         P1    08032018 09:00:00\n",
       " 2        D1         P2    08032018 10:00:00)"
      ]
     },
     "execution_count": 59,
     "metadata": {},
     "output_type": "execute_result"
    }
   ],
   "source": [
    "#make_appt('D1','P1','08032018','09:00:00',data)\n",
    "make_appt(doc_id_input(),patient_id_input(),date_input(),time_input(),data)"
   ]
  },
  {
   "cell_type": "code",
   "execution_count": 60,
   "metadata": {},
   "outputs": [
    {
     "data": {
      "text/plain": [
       "('You already have another appointment at this specific date and time',\n",
       "   doctor_id patient_id appointment_datetime\n",
       " 4        D2         P1    18032018 08:00:00)"
      ]
     },
     "execution_count": 60,
     "metadata": {},
     "output_type": "execute_result"
    }
   ],
   "source": [
    "#make_appt('D1','P1','18032018','08:00:00',data)\n",
    "make_appt(doc_id_input(),patient_id_input(),date_input(),time_input(),data)"
   ]
  },
  {
   "cell_type": "code",
   "execution_count": 61,
   "metadata": {},
   "outputs": [
    {
     "data": {
      "text/plain": [
       "('Appointment created!',\n",
       "   doctor_id patient_id appointment_datetime\n",
       " 8        D1         P1    22042022 08:00:00)"
      ]
     },
     "execution_count": 61,
     "metadata": {},
     "output_type": "execute_result"
    }
   ],
   "source": [
    "#make_appt('D1','P1','11042022','10:00:00',data)\n",
    "make_appt(doc_id_input(),patient_id_input(),date_input(),time_input(),data)"
   ]
  },
  {
   "cell_type": "code",
   "execution_count": 64,
   "metadata": {},
   "outputs": [
    {
     "data": {
      "text/html": [
       "<div>\n",
       "<style scoped>\n",
       "    .dataframe tbody tr th:only-of-type {\n",
       "        vertical-align: middle;\n",
       "    }\n",
       "\n",
       "    .dataframe tbody tr th {\n",
       "        vertical-align: top;\n",
       "    }\n",
       "\n",
       "    .dataframe thead th {\n",
       "        text-align: right;\n",
       "    }\n",
       "</style>\n",
       "<table border=\"1\" class=\"dataframe\">\n",
       "  <thead>\n",
       "    <tr style=\"text-align: right;\">\n",
       "      <th></th>\n",
       "      <th>doctor_id</th>\n",
       "      <th>patient_id</th>\n",
       "      <th>appointment_datetime</th>\n",
       "    </tr>\n",
       "  </thead>\n",
       "  <tbody>\n",
       "    <tr>\n",
       "      <th>0</th>\n",
       "      <td>D1</td>\n",
       "      <td>P1</td>\n",
       "      <td>08032018 09:00:00</td>\n",
       "    </tr>\n",
       "    <tr>\n",
       "      <th>1</th>\n",
       "      <td>D1</td>\n",
       "      <td>P1</td>\n",
       "      <td>08042018 10:00:00</td>\n",
       "    </tr>\n",
       "    <tr>\n",
       "      <th>2</th>\n",
       "      <td>D1</td>\n",
       "      <td>P2</td>\n",
       "      <td>08032018 10:00:00</td>\n",
       "    </tr>\n",
       "    <tr>\n",
       "      <th>3</th>\n",
       "      <td>D1</td>\n",
       "      <td>P1</td>\n",
       "      <td>08042018 11:00:00</td>\n",
       "    </tr>\n",
       "    <tr>\n",
       "      <th>4</th>\n",
       "      <td>D2</td>\n",
       "      <td>P1</td>\n",
       "      <td>18032018 08:00:00</td>\n",
       "    </tr>\n",
       "    <tr>\n",
       "      <th>5</th>\n",
       "      <td>D2</td>\n",
       "      <td>P1</td>\n",
       "      <td>18042018 09:00:00</td>\n",
       "    </tr>\n",
       "    <tr>\n",
       "      <th>6</th>\n",
       "      <td>D2</td>\n",
       "      <td>P3</td>\n",
       "      <td>18032018 09:00:00</td>\n",
       "    </tr>\n",
       "    <tr>\n",
       "      <th>7</th>\n",
       "      <td>D2</td>\n",
       "      <td>P3</td>\n",
       "      <td>18042018 10:00:00</td>\n",
       "    </tr>\n",
       "    <tr>\n",
       "      <th>8</th>\n",
       "      <td>D1</td>\n",
       "      <td>P1</td>\n",
       "      <td>22042022 08:00:00</td>\n",
       "    </tr>\n",
       "  </tbody>\n",
       "</table>\n",
       "</div>"
      ],
      "text/plain": [
       "  doctor_id patient_id appointment_datetime\n",
       "0        D1         P1    08032018 09:00:00\n",
       "1        D1         P1    08042018 10:00:00\n",
       "2        D1         P2    08032018 10:00:00\n",
       "3        D1         P1    08042018 11:00:00\n",
       "4        D2         P1    18032018 08:00:00\n",
       "5        D2         P1    18042018 09:00:00\n",
       "6        D2         P3    18032018 09:00:00\n",
       "7        D2         P3    18042018 10:00:00\n",
       "8        D1         P1    22042022 08:00:00"
      ]
     },
     "execution_count": 64,
     "metadata": {},
     "output_type": "execute_result"
    }
   ],
   "source": [
    "data.iloc[:,:3]"
   ]
  },
  {
   "cell_type": "code",
   "execution_count": 65,
   "metadata": {},
   "outputs": [
    {
     "data": {
      "text/html": [
       "<div>\n",
       "<style scoped>\n",
       "    .dataframe tbody tr th:only-of-type {\n",
       "        vertical-align: middle;\n",
       "    }\n",
       "\n",
       "    .dataframe tbody tr th {\n",
       "        vertical-align: top;\n",
       "    }\n",
       "\n",
       "    .dataframe thead th {\n",
       "        text-align: right;\n",
       "    }\n",
       "</style>\n",
       "<table border=\"1\" class=\"dataframe\">\n",
       "  <thead>\n",
       "    <tr style=\"text-align: right;\">\n",
       "      <th></th>\n",
       "      <th>doctor_id</th>\n",
       "      <th>patient_id</th>\n",
       "      <th>appointment_datetime</th>\n",
       "    </tr>\n",
       "  </thead>\n",
       "  <tbody>\n",
       "    <tr>\n",
       "      <th>0</th>\n",
       "      <td>D1</td>\n",
       "      <td>P1</td>\n",
       "      <td>08032018 09:00:00</td>\n",
       "    </tr>\n",
       "    <tr>\n",
       "      <th>1</th>\n",
       "      <td>D1</td>\n",
       "      <td>P1</td>\n",
       "      <td>08042018 10:00:00</td>\n",
       "    </tr>\n",
       "    <tr>\n",
       "      <th>3</th>\n",
       "      <td>D1</td>\n",
       "      <td>P1</td>\n",
       "      <td>08042018 11:00:00</td>\n",
       "    </tr>\n",
       "    <tr>\n",
       "      <th>4</th>\n",
       "      <td>D2</td>\n",
       "      <td>P1</td>\n",
       "      <td>18032018 08:00:00</td>\n",
       "    </tr>\n",
       "    <tr>\n",
       "      <th>5</th>\n",
       "      <td>D2</td>\n",
       "      <td>P1</td>\n",
       "      <td>18042018 09:00:00</td>\n",
       "    </tr>\n",
       "    <tr>\n",
       "      <th>8</th>\n",
       "      <td>D1</td>\n",
       "      <td>P1</td>\n",
       "      <td>22042022 08:00:00</td>\n",
       "    </tr>\n",
       "  </tbody>\n",
       "</table>\n",
       "</div>"
      ],
      "text/plain": [
       "  doctor_id patient_id appointment_datetime\n",
       "0        D1         P1    08032018 09:00:00\n",
       "1        D1         P1    08042018 10:00:00\n",
       "3        D1         P1    08042018 11:00:00\n",
       "4        D2         P1    18032018 08:00:00\n",
       "5        D2         P1    18042018 09:00:00\n",
       "8        D1         P1    22042022 08:00:00"
      ]
     },
     "execution_count": 65,
     "metadata": {},
     "output_type": "execute_result"
    }
   ],
   "source": [
    "check_all_patient_appt('P1',data)"
   ]
  },
  {
   "cell_type": "code",
   "execution_count": 11,
   "metadata": {},
   "outputs": [],
   "source": [
    "# Q4:\n",
    "\n",
    "# Patient cancels appointment by selecting doctor and date & time\n",
    "\n",
    "def delete_appt_patient (doctor,patient,date,time,data):\n",
    "    if patient+date+' '+time not in data['concat patientdate'].values:\n",
    "        return 'You have no such appointment',check_all_patient_appt(patient,data),data\n",
    "    else:\n",
    "        data = data.drop(data[(data['doctor_id']==doctor) & (data[\"patient_id\"]== patient) & (data[\"date\"]==date) & (data[\"time\"]==time)].index)\n",
    "        return 'Appointment cancelled, these are your existing appointments',check_all_patient_appt(patient,data),data"
   ]
  },
  {
   "cell_type": "code",
   "execution_count": 66,
   "metadata": {},
   "outputs": [
    {
     "data": {
      "text/plain": [
       "('Appointment cancelled, these are your existing appointments',\n",
       "   doctor_id patient_id appointment_datetime\n",
       " 0        D1         P1    08032018 09:00:00\n",
       " 1        D1         P1    08042018 10:00:00\n",
       " 3        D1         P1    08042018 11:00:00\n",
       " 4        D2         P1    18032018 08:00:00\n",
       " 5        D2         P1    18042018 09:00:00,\n",
       "   doctor_id patient_id appointment_datetime       concat docdate  \\\n",
       " 0        D1         P1    08032018 09:00:00  D108032018 09:00:00   \n",
       " 1        D1         P1    08042018 10:00:00  D108042018 10:00:00   \n",
       " 2        D1         P2    08032018 10:00:00  D108032018 10:00:00   \n",
       " 3        D1         P1    08042018 11:00:00  D108042018 11:00:00   \n",
       " 4        D2         P1    18032018 08:00:00  D218032018 08:00:00   \n",
       " 5        D2         P1    18042018 09:00:00  D218042018 09:00:00   \n",
       " 6        D2         P3    18032018 09:00:00  D218032018 09:00:00   \n",
       " 7        D2         P3    18042018 10:00:00  D218042018 10:00:00   \n",
       " \n",
       "     concat patientdate      date      time  \n",
       " 0  P108032018 09:00:00  08032018  09:00:00  \n",
       " 1  P108042018 10:00:00  08042018  10:00:00  \n",
       " 2  P208032018 10:00:00  08032018  10:00:00  \n",
       " 3  P108042018 11:00:00  08042018  11:00:00  \n",
       " 4  P118032018 08:00:00  18032018  08:00:00  \n",
       " 5  P118042018 09:00:00  18042018  09:00:00  \n",
       " 6  P318032018 09:00:00  18032018  09:00:00  \n",
       " 7  P318042018 10:00:00  18042018  10:00:00  )"
      ]
     },
     "execution_count": 66,
     "metadata": {},
     "output_type": "execute_result"
    }
   ],
   "source": [
    "# if variable not assigned, the return will be a tuple, may be difficult to read or manipulate later on\n",
    "delete_appt_patient(doc_id_input(),patient_id_input(),date_input(),time_input(),data)"
   ]
  },
  {
   "cell_type": "code",
   "execution_count": 68,
   "metadata": {},
   "outputs": [],
   "source": [
    "#assigning a variable to the return allows for the dataframe to be inserted again into other functions\n",
    "text,check,data = delete_appt_patient(doc_id_input(),patient_id_input(),date_input(),time_input(),data)"
   ]
  },
  {
   "cell_type": "code",
   "execution_count": 69,
   "metadata": {},
   "outputs": [
    {
     "data": {
      "text/plain": [
       "'Appointment cancelled, these are your existing appointments'"
      ]
     },
     "execution_count": 69,
     "metadata": {},
     "output_type": "execute_result"
    }
   ],
   "source": [
    "text"
   ]
  },
  {
   "cell_type": "code",
   "execution_count": 70,
   "metadata": {},
   "outputs": [
    {
     "data": {
      "text/html": [
       "<div>\n",
       "<style scoped>\n",
       "    .dataframe tbody tr th:only-of-type {\n",
       "        vertical-align: middle;\n",
       "    }\n",
       "\n",
       "    .dataframe tbody tr th {\n",
       "        vertical-align: top;\n",
       "    }\n",
       "\n",
       "    .dataframe thead th {\n",
       "        text-align: right;\n",
       "    }\n",
       "</style>\n",
       "<table border=\"1\" class=\"dataframe\">\n",
       "  <thead>\n",
       "    <tr style=\"text-align: right;\">\n",
       "      <th></th>\n",
       "      <th>doctor_id</th>\n",
       "      <th>patient_id</th>\n",
       "      <th>appointment_datetime</th>\n",
       "    </tr>\n",
       "  </thead>\n",
       "  <tbody>\n",
       "    <tr>\n",
       "      <th>0</th>\n",
       "      <td>D1</td>\n",
       "      <td>P1</td>\n",
       "      <td>08032018 09:00:00</td>\n",
       "    </tr>\n",
       "    <tr>\n",
       "      <th>1</th>\n",
       "      <td>D1</td>\n",
       "      <td>P1</td>\n",
       "      <td>08042018 10:00:00</td>\n",
       "    </tr>\n",
       "    <tr>\n",
       "      <th>3</th>\n",
       "      <td>D1</td>\n",
       "      <td>P1</td>\n",
       "      <td>08042018 11:00:00</td>\n",
       "    </tr>\n",
       "    <tr>\n",
       "      <th>4</th>\n",
       "      <td>D2</td>\n",
       "      <td>P1</td>\n",
       "      <td>18032018 08:00:00</td>\n",
       "    </tr>\n",
       "    <tr>\n",
       "      <th>5</th>\n",
       "      <td>D2</td>\n",
       "      <td>P1</td>\n",
       "      <td>18042018 09:00:00</td>\n",
       "    </tr>\n",
       "  </tbody>\n",
       "</table>\n",
       "</div>"
      ],
      "text/plain": [
       "  doctor_id patient_id appointment_datetime\n",
       "0        D1         P1    08032018 09:00:00\n",
       "1        D1         P1    08042018 10:00:00\n",
       "3        D1         P1    08042018 11:00:00\n",
       "4        D2         P1    18032018 08:00:00\n",
       "5        D2         P1    18042018 09:00:00"
      ]
     },
     "execution_count": 70,
     "metadata": {},
     "output_type": "execute_result"
    }
   ],
   "source": [
    "check"
   ]
  },
  {
   "cell_type": "code",
   "execution_count": 71,
   "metadata": {},
   "outputs": [
    {
     "data": {
      "text/html": [
       "<div>\n",
       "<style scoped>\n",
       "    .dataframe tbody tr th:only-of-type {\n",
       "        vertical-align: middle;\n",
       "    }\n",
       "\n",
       "    .dataframe tbody tr th {\n",
       "        vertical-align: top;\n",
       "    }\n",
       "\n",
       "    .dataframe thead th {\n",
       "        text-align: right;\n",
       "    }\n",
       "</style>\n",
       "<table border=\"1\" class=\"dataframe\">\n",
       "  <thead>\n",
       "    <tr style=\"text-align: right;\">\n",
       "      <th></th>\n",
       "      <th>doctor_id</th>\n",
       "      <th>patient_id</th>\n",
       "      <th>appointment_datetime</th>\n",
       "      <th>concat docdate</th>\n",
       "      <th>concat patientdate</th>\n",
       "      <th>date</th>\n",
       "      <th>time</th>\n",
       "    </tr>\n",
       "  </thead>\n",
       "  <tbody>\n",
       "    <tr>\n",
       "      <th>0</th>\n",
       "      <td>D1</td>\n",
       "      <td>P1</td>\n",
       "      <td>08032018 09:00:00</td>\n",
       "      <td>D108032018 09:00:00</td>\n",
       "      <td>P108032018 09:00:00</td>\n",
       "      <td>08032018</td>\n",
       "      <td>09:00:00</td>\n",
       "    </tr>\n",
       "    <tr>\n",
       "      <th>1</th>\n",
       "      <td>D1</td>\n",
       "      <td>P1</td>\n",
       "      <td>08042018 10:00:00</td>\n",
       "      <td>D108042018 10:00:00</td>\n",
       "      <td>P108042018 10:00:00</td>\n",
       "      <td>08042018</td>\n",
       "      <td>10:00:00</td>\n",
       "    </tr>\n",
       "    <tr>\n",
       "      <th>2</th>\n",
       "      <td>D1</td>\n",
       "      <td>P2</td>\n",
       "      <td>08032018 10:00:00</td>\n",
       "      <td>D108032018 10:00:00</td>\n",
       "      <td>P208032018 10:00:00</td>\n",
       "      <td>08032018</td>\n",
       "      <td>10:00:00</td>\n",
       "    </tr>\n",
       "    <tr>\n",
       "      <th>3</th>\n",
       "      <td>D1</td>\n",
       "      <td>P1</td>\n",
       "      <td>08042018 11:00:00</td>\n",
       "      <td>D108042018 11:00:00</td>\n",
       "      <td>P108042018 11:00:00</td>\n",
       "      <td>08042018</td>\n",
       "      <td>11:00:00</td>\n",
       "    </tr>\n",
       "    <tr>\n",
       "      <th>4</th>\n",
       "      <td>D2</td>\n",
       "      <td>P1</td>\n",
       "      <td>18032018 08:00:00</td>\n",
       "      <td>D218032018 08:00:00</td>\n",
       "      <td>P118032018 08:00:00</td>\n",
       "      <td>18032018</td>\n",
       "      <td>08:00:00</td>\n",
       "    </tr>\n",
       "    <tr>\n",
       "      <th>5</th>\n",
       "      <td>D2</td>\n",
       "      <td>P1</td>\n",
       "      <td>18042018 09:00:00</td>\n",
       "      <td>D218042018 09:00:00</td>\n",
       "      <td>P118042018 09:00:00</td>\n",
       "      <td>18042018</td>\n",
       "      <td>09:00:00</td>\n",
       "    </tr>\n",
       "    <tr>\n",
       "      <th>6</th>\n",
       "      <td>D2</td>\n",
       "      <td>P3</td>\n",
       "      <td>18032018 09:00:00</td>\n",
       "      <td>D218032018 09:00:00</td>\n",
       "      <td>P318032018 09:00:00</td>\n",
       "      <td>18032018</td>\n",
       "      <td>09:00:00</td>\n",
       "    </tr>\n",
       "    <tr>\n",
       "      <th>7</th>\n",
       "      <td>D2</td>\n",
       "      <td>P3</td>\n",
       "      <td>18042018 10:00:00</td>\n",
       "      <td>D218042018 10:00:00</td>\n",
       "      <td>P318042018 10:00:00</td>\n",
       "      <td>18042018</td>\n",
       "      <td>10:00:00</td>\n",
       "    </tr>\n",
       "  </tbody>\n",
       "</table>\n",
       "</div>"
      ],
      "text/plain": [
       "  doctor_id patient_id appointment_datetime       concat docdate  \\\n",
       "0        D1         P1    08032018 09:00:00  D108032018 09:00:00   \n",
       "1        D1         P1    08042018 10:00:00  D108042018 10:00:00   \n",
       "2        D1         P2    08032018 10:00:00  D108032018 10:00:00   \n",
       "3        D1         P1    08042018 11:00:00  D108042018 11:00:00   \n",
       "4        D2         P1    18032018 08:00:00  D218032018 08:00:00   \n",
       "5        D2         P1    18042018 09:00:00  D218042018 09:00:00   \n",
       "6        D2         P3    18032018 09:00:00  D218032018 09:00:00   \n",
       "7        D2         P3    18042018 10:00:00  D218042018 10:00:00   \n",
       "\n",
       "    concat patientdate      date      time  \n",
       "0  P108032018 09:00:00  08032018  09:00:00  \n",
       "1  P108042018 10:00:00  08042018  10:00:00  \n",
       "2  P208032018 10:00:00  08032018  10:00:00  \n",
       "3  P108042018 11:00:00  08042018  11:00:00  \n",
       "4  P118032018 08:00:00  18032018  08:00:00  \n",
       "5  P118042018 09:00:00  18042018  09:00:00  \n",
       "6  P318032018 09:00:00  18032018  09:00:00  \n",
       "7  P318042018 10:00:00  18042018  10:00:00  "
      ]
     },
     "execution_count": 71,
     "metadata": {},
     "output_type": "execute_result"
    }
   ],
   "source": [
    "data"
   ]
  },
  {
   "cell_type": "code",
   "execution_count": 72,
   "metadata": {},
   "outputs": [
    {
     "data": {
      "text/html": [
       "<div>\n",
       "<style scoped>\n",
       "    .dataframe tbody tr th:only-of-type {\n",
       "        vertical-align: middle;\n",
       "    }\n",
       "\n",
       "    .dataframe tbody tr th {\n",
       "        vertical-align: top;\n",
       "    }\n",
       "\n",
       "    .dataframe thead th {\n",
       "        text-align: right;\n",
       "    }\n",
       "</style>\n",
       "<table border=\"1\" class=\"dataframe\">\n",
       "  <thead>\n",
       "    <tr style=\"text-align: right;\">\n",
       "      <th></th>\n",
       "      <th>doctor_id</th>\n",
       "      <th>patient_id</th>\n",
       "      <th>appointment_datetime</th>\n",
       "    </tr>\n",
       "  </thead>\n",
       "  <tbody>\n",
       "    <tr>\n",
       "      <th>0</th>\n",
       "      <td>D1</td>\n",
       "      <td>P1</td>\n",
       "      <td>08032018 09:00:00</td>\n",
       "    </tr>\n",
       "    <tr>\n",
       "      <th>1</th>\n",
       "      <td>D1</td>\n",
       "      <td>P1</td>\n",
       "      <td>08042018 10:00:00</td>\n",
       "    </tr>\n",
       "    <tr>\n",
       "      <th>2</th>\n",
       "      <td>D1</td>\n",
       "      <td>P2</td>\n",
       "      <td>08032018 10:00:00</td>\n",
       "    </tr>\n",
       "    <tr>\n",
       "      <th>3</th>\n",
       "      <td>D1</td>\n",
       "      <td>P1</td>\n",
       "      <td>08042018 11:00:00</td>\n",
       "    </tr>\n",
       "    <tr>\n",
       "      <th>4</th>\n",
       "      <td>D2</td>\n",
       "      <td>P1</td>\n",
       "      <td>18032018 08:00:00</td>\n",
       "    </tr>\n",
       "    <tr>\n",
       "      <th>5</th>\n",
       "      <td>D2</td>\n",
       "      <td>P1</td>\n",
       "      <td>18042018 09:00:00</td>\n",
       "    </tr>\n",
       "    <tr>\n",
       "      <th>6</th>\n",
       "      <td>D2</td>\n",
       "      <td>P3</td>\n",
       "      <td>18032018 09:00:00</td>\n",
       "    </tr>\n",
       "    <tr>\n",
       "      <th>7</th>\n",
       "      <td>D2</td>\n",
       "      <td>P3</td>\n",
       "      <td>18042018 10:00:00</td>\n",
       "    </tr>\n",
       "  </tbody>\n",
       "</table>\n",
       "</div>"
      ],
      "text/plain": [
       "  doctor_id patient_id appointment_datetime\n",
       "0        D1         P1    08032018 09:00:00\n",
       "1        D1         P1    08042018 10:00:00\n",
       "2        D1         P2    08032018 10:00:00\n",
       "3        D1         P1    08042018 11:00:00\n",
       "4        D2         P1    18032018 08:00:00\n",
       "5        D2         P1    18042018 09:00:00\n",
       "6        D2         P3    18032018 09:00:00\n",
       "7        D2         P3    18042018 10:00:00"
      ]
     },
     "execution_count": 72,
     "metadata": {},
     "output_type": "execute_result"
    }
   ],
   "source": [
    "data.iloc[:,:3]"
   ]
  }
 ],
 "metadata": {
  "interpreter": {
   "hash": "31f2aee4e71d21fbe5cf8b01ff0e069b9275f58929596ceb00d14d90e3e16cd6"
  },
  "kernelspec": {
   "display_name": "Python 3.8.10 64-bit",
   "language": "python",
   "name": "python3"
  },
  "language_info": {
   "codemirror_mode": {
    "name": "ipython",
    "version": 3
   },
   "file_extension": ".py",
   "mimetype": "text/x-python",
   "name": "python",
   "nbconvert_exporter": "python",
   "pygments_lexer": "ipython3",
   "version": "3.8.10"
  },
  "orig_nbformat": 4
 },
 "nbformat": 4,
 "nbformat_minor": 2
}
